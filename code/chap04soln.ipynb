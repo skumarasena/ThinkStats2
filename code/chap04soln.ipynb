{
 "metadata": {
  "name": "",
<<<<<<< HEAD
  "signature": "sha256:f0bb173c13b7681e00b2c52f059cc3bfa25aefa776c13872c456b57935e586d1"
=======
  "signature": "sha256:8a4674a0ec0e91f378b3bee4c631c9dd393e5591a302c1c11213da9258d9bebd"
>>>>>>> 023de18ce4bf16c14e84468746dde140b3b820c2
 },
 "nbformat": 3,
 "nbformat_minor": 0,
 "worksheets": [
  {
   "cells": [
    {
     "cell_type": "markdown",
     "metadata": {},
     "source": [
      "Read the pregnancy file."
     ]
    },
    {
     "cell_type": "code",
     "collapsed": false,
     "input": [
      "import nsfg\n",
      "preg = nsfg.ReadFemPreg()"
     ],
     "language": "python",
     "metadata": {},
     "outputs": [],
     "prompt_number": 1
    },
    {
     "cell_type": "markdown",
     "metadata": {},
     "source": [
      "Select live births, then make a CDF of <tt>totalwgt_lb</tt>. "
     ]
    },
    {
     "cell_type": "code",
     "collapsed": false,
     "input": [
      "import thinkstats2\n",
      "live = preg[preg.outcome == 1]\n",
      "firsts = live[live.birthord == 1]\n",
      "others = live[live.birthord != 1]\n",
      "cdf = thinkstats2.Cdf(live.totalwgt_lb)"
     ],
     "language": "python",
     "metadata": {},
     "outputs": [],
     "prompt_number": 2
    },
    {
     "cell_type": "markdown",
     "metadata": {},
     "source": [
      "Display the CDF."
     ]
    },
    {
     "cell_type": "code",
     "collapsed": false,
     "input": [
      "import thinkplot\n",
      "thinkplot.Cdf(cdf, label='totalwgt_lb')\n",
      "thinkplot.Show(loc='lower right')"
     ],
     "language": "python",
     "metadata": {},
     "outputs": [
      {
       "metadata": {},
       "output_type": "display_data",
       "png": "iVBORw0KGgoAAAANSUhEUgAAAXUAAAEACAYAAABMEua6AAAABHNCSVQICAgIfAhkiAAAAAlwSFlz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\nswxxqJuZZYhD3cwsQxzqZmYZ8v8Bf8dh8cida1cAAAAASUVORK5CYII=\n",
       "text": [
        "<matplotlib.figure.Figure at 0x7fb6ecd16110>"
       ]
      },
      {
       "metadata": {},
       "output_type": "display_data",
       "text": [
        "<matplotlib.figure.Figure at 0x7fb6ecd16510>"
       ]
      }
     ],
     "prompt_number": 3
    },
    {
     "cell_type": "markdown",
     "metadata": {},
     "source": [
      "Find out how much you weighed at birth, if you can, and compute CDF(x). "
     ]
    },
    {
     "cell_type": "code",
     "collapsed": false,
     "input": [
      "cdf.Prob(8.4)"
     ],
     "language": "python",
     "metadata": {},
     "outputs": [
      {
       "metadata": {},
       "output_type": "pyout",
       "prompt_number": 4,
       "text": [
        "0.037840230139411374"
       ]
      }
     ],
     "prompt_number": 4
    },
    {
     "cell_type": "markdown",
     "metadata": {},
     "source": [
      "If you are a first child, look up your birthweight in the CDF of first children; otherwise use the CDF of other children."
     ]
    },
    {
     "cell_type": "code",
     "collapsed": false,
     "input": [
      "other_cdf = thinkstats2.Cdf(others.totalwgt_lb)\n",
      "other_cdf.Prob(8.4)"
     ],
     "language": "python",
     "metadata": {},
     "outputs": [
      {
       "metadata": {},
       "output_type": "pyout",
       "prompt_number": 5,
       "text": [
        "0.79657754010695192"
       ]
      }
     ],
     "prompt_number": 5
    },
    {
     "cell_type": "markdown",
     "metadata": {},
     "source": [
      "Compute the percentile rank of your birthweight"
     ]
    },
    {
     "cell_type": "code",
     "collapsed": false,
     "input": [
      "cdf.PercentileRank(8.4)"
     ],
     "language": "python",
     "metadata": {},
     "outputs": [
      {
       "metadata": {},
       "output_type": "pyout",
       "prompt_number": 6,
       "text": [
        "81.422881168400082"
       ]
      }
     ],
     "prompt_number": 6
    },
    {
     "cell_type": "markdown",
     "metadata": {},
     "source": [
      "Compute the median birth weight by looking up the value associated with p=0.5."
     ]
    },
    {
     "cell_type": "code",
     "collapsed": false,
     "input": [
      "cdf.Value(0.5)"
     ],
     "language": "python",
     "metadata": {},
     "outputs": [
      {
       "metadata": {},
       "output_type": "pyout",
       "prompt_number": 7,
       "text": [
        "7.375"
       ]
      }
     ],
     "prompt_number": 7
    },
    {
     "cell_type": "markdown",
     "metadata": {},
     "source": [
      "Compute the interquartile range (IQR) by computing percentiles corresponding to 25 and 75. "
     ]
    },
    {
     "cell_type": "code",
     "collapsed": false,
     "input": [
      "cdf.Percentile(25), cdf.Percentile(75)"
     ],
     "language": "python",
     "metadata": {},
     "outputs": [
      {
       "metadata": {},
       "output_type": "pyout",
       "prompt_number": 8,
       "text": [
        "(6.5, 8.125)"
       ]
      }
     ],
     "prompt_number": 8
    },
    {
     "cell_type": "markdown",
     "metadata": {},
     "source": [
      "Make a random selection from <tt>cdf</tt>."
     ]
    },
    {
     "cell_type": "code",
     "collapsed": false,
     "input": [
      "cdf.Random()"
     ],
     "language": "python",
     "metadata": {},
     "outputs": [
      {
       "metadata": {},
       "output_type": "pyout",
       "prompt_number": 9,
       "text": [
        "7.625"
       ]
      }
     ],
     "prompt_number": 9
    },
    {
     "cell_type": "markdown",
     "metadata": {},
     "source": [
      "Draw a random sample from <tt>cdf</tt>."
     ]
    },
    {
     "cell_type": "code",
     "collapsed": false,
     "input": [
      "cdf.Sample(10)"
     ],
     "language": "python",
     "metadata": {},
     "outputs": [
      {
       "metadata": {},
       "output_type": "pyout",
       "prompt_number": 10,
       "text": [
        "array([  7.75  ,   8.25  ,   6.6875,   6.25  ,   7.6875,  10.1875,\n",
        "         6.75  ,   9.4375,   5.125 ,   6.6875])"
       ]
      }
     ],
     "prompt_number": 10
    },
    {
     "cell_type": "markdown",
     "metadata": {},
     "source": [
      "Draw a random sample from <tt>cdf</tt>, then compute the percentile rank for each value, and plot the distribution of the percentile ranks."
     ]
    },
    {
     "cell_type": "code",
     "collapsed": false,
     "input": [
      "t = [cdf.PercentileRank(x) for x in cdf.Sample(1000)]\n",
      "cdf2 = thinkstats2.Cdf(t)\n",
      "thinkplot.Cdf(cdf2)\n",
      "thinkplot.Show(legend=False)"
     ],
     "language": "python",
     "metadata": {},
     "outputs": [
      {
       "metadata": {},
       "output_type": "display_data",
       "png": "iVBORw0KGgoAAAANSUhEUgAAAXgAAAEACAYAAAC57G0KAAAABHNCSVQICAgIfAhkiAAAAAlwSFlz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\neDFOagAAAABJRU5ErkJggg==\n",
       "text": [
        "<matplotlib.figure.Figure at 0x7fb71555f050>"
       ]
      },
      {
       "metadata": {},
       "output_type": "display_data",
       "text": [
        "<matplotlib.figure.Figure at 0x7fb715553f90>"
       ]
      }
     ],
     "prompt_number": 11
    },
    {
     "cell_type": "markdown",
     "metadata": {},
     "source": [
      "Generate 1000 random values using <tt>random.random()</tt> and plot their PMF."
     ]
    },
    {
     "cell_type": "code",
     "collapsed": false,
     "input": [
      "import random\n",
      "t = [random.random() for _ in range(1000)]\n",
      "pmf = thinkstats2.Pmf(t)\n",
      "thinkplot.Pmf(pmf, linewidth=0.1)\n",
      "thinkplot.Show()"
     ],
     "language": "python",
     "metadata": {},
     "outputs": [
      {
       "output_type": "stream",
       "stream": "stderr",
       "text": [
        "/home/skumarasena/anaconda/lib/python2.7/site-packages/matplotlib/axes/_axes.py:475: UserWarning: No labelled objects found. Use label='...' kwarg on individual plots.\n",
        "  warnings.warn(\"No labelled objects found. \"\n"
       ]
      },
      {
       "metadata": {},
       "output_type": "display_data",
       "png": "iVBORw0KGgoAAAANSUhEUgAAAYoAAAEACAYAAACtVTGuAAAABHNCSVQICAgIfAhkiAAAAAlwSFlz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\nB4WZmSU5KMzMLOn/A68ShJ1qhIbNAAAAAElFTkSuQmCC\n",
       "text": [
        "<matplotlib.figure.Figure at 0x7fb6ecc935d0>"
       ]
      },
      {
       "metadata": {},
       "output_type": "display_data",
       "text": [
        "<matplotlib.figure.Figure at 0x7fb6ecc93f10>"
       ]
      }
     ],
     "prompt_number": 12
    },
    {
     "cell_type": "markdown",
     "metadata": {},
     "source": [
      "Assuming that the PMF doesn't work very well, try plotting the CDF instead."
     ]
    },
    {
     "cell_type": "code",
     "collapsed": false,
     "input": [
      "cdf = thinkstats2.Cdf(t)\n",
      "thinkplot.Cdf(cdf)\n",
      "thinkplot.Show()"
     ],
     "language": "python",
     "metadata": {},
     "outputs": [
      {
       "metadata": {},
       "output_type": "display_data",
       "png": "iVBORw0KGgoAAAANSUhEUgAAAXcAAAEACAYAAABI5zaHAAAABHNCSVQICAgIfAhkiAAAAAlwSFlz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\n/T92ZRmfHvUCWgAAAABJRU5ErkJggg==\n",
       "text": [
        "<matplotlib.figure.Figure at 0x7fb6ecd2eed0>"
       ]
      },
      {
       "metadata": {},
       "output_type": "display_data",
       "text": [
        "<matplotlib.figure.Figure at 0x7fb6eccdb610>"
       ]
      }
     ],
     "prompt_number": 13
    },
    {
     "cell_type": "code",
     "collapsed": false,
     "input": [
      "import scipy.stats"
     ],
     "language": "python",
     "metadata": {},
     "outputs": [],
     "prompt_number": 14
    },
    {
     "cell_type": "code",
     "collapsed": false,
     "input": [
      "scipy.stats.norm.cdf(0)"
     ],
     "language": "python",
     "metadata": {},
     "outputs": [
      {
       "metadata": {},
       "output_type": "pyout",
       "prompt_number": 15,
       "text": [
        "0.5"
       ]
      }
     ],
     "prompt_number": 15
    },
    {
     "cell_type": "code",
     "collapsed": false,
     "input": [],
     "language": "python",
     "metadata": {},
     "outputs": [],
     "prompt_number": 15
    }
   ],
   "metadata": {}
  }
 ]
}